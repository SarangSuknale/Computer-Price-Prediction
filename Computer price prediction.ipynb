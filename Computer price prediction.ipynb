{
 "cells": [
  {
   "cell_type": "markdown",
   "id": "9901d581",
   "metadata": {},
   "source": [
    "What should be the apt price for a computer?\n",
    "\n",
    "When you purchase a new computer, you estimate its price based on its specifications like the Hard Drive, RAM, screen size etc.\n",
    "\n",
    "In this case study, the task is to create a machine learning model which can predict the price of a computer based on its specs.\n",
    "\n",
    "In below case study I will discuss the step by step approach to create a Machine Learning predictive model in such scenarios.\n",
    "\n",
    "The flow of the case study is as below:\n",
    "\n",
    "* Reading the data in python\n",
    "* Defining the problem statement\n",
    "* Identifying the Target variable\n",
    "* Looking at the distribution of Target variable\n",
    "* Basic Data exploration\n",
    "* Rejecting useless columns\n",
    "* Visual Exploratory Data Analysis for data distribution (Histogram and Barcharts)\n",
    "* Feature Selection based on data distribution\n",
    "* Outlier treatment\n",
    "* Missing Values treatment\n",
    "* Visual correlation analysis\n",
    "* Statistical correlation analysis (Feature Selection)\n",
    "* Converting data to numeric for ML\n",
    "* Sampling and K-fold cross validation\n",
    "* Trying multiple Regression algorithms\n",
    "* Selecting the best Model\n",
    "* Deploying the best model in production\n",
    "\n",
    "# Reading the data into python\n",
    "This is one of the most important steps in machine learning! You must understand the data and the domain well before trying to apply any machine learning algorithm.\n",
    "\n",
    "## Data description\n",
    "The business meaning of each column in the data is as below\n",
    "\n",
    "* **price:** The Price of the computer\n",
    "* **speed:** The speed\n",
    "* **hd:** How much hard drive is present\n",
    "* **ram:** How much ram is present in the computer\n",
    "* **screen:** The screen size\n",
    "* **cd:** Whether CD player is present or not\n",
    "* **multi:** Are there multiple ports or not\n",
    "* **premium:** If the computer premium quality\n",
    "* **ads:** The ads value of the computer\n",
    "* **trend:** The trend value of the computer"
   ]
  },
  {
   "cell_type": "code",
   "execution_count": 3,
   "id": "37055d10",
   "metadata": {},
   "outputs": [],
   "source": [
    "import warnings\n",
    "warnings.filterwarnings('ignore')"
   ]
  },
  {
   "cell_type": "code",
   "execution_count": 4,
   "id": "23ac6d89",
   "metadata": {},
   "outputs": [],
   "source": [
    "import pandas as pd\n",
    "import numpy as np"
   ]
  },
  {
   "cell_type": "code",
   "execution_count": 5,
   "id": "1decb19b",
   "metadata": {},
   "outputs": [],
   "source": [
    "#Reading the Datasets\n",
    "\n",
    "ComputerPricesData=pd.read_csv('G:/Study material/IVY Proschool/Python/Class Notes/Python Datasets/Regression Datasets/ComputerPricesData.csv',\n",
    "                               encoding='latin')"
   ]
  },
  {
   "cell_type": "code",
   "execution_count": 6,
   "id": "376c4998",
   "metadata": {},
   "outputs": [
    {
     "data": {
      "text/html": [
       "<div>\n",
       "<style scoped>\n",
       "    .dataframe tbody tr th:only-of-type {\n",
       "        vertical-align: middle;\n",
       "    }\n",
       "\n",
       "    .dataframe tbody tr th {\n",
       "        vertical-align: top;\n",
       "    }\n",
       "\n",
       "    .dataframe thead th {\n",
       "        text-align: right;\n",
       "    }\n",
       "</style>\n",
       "<table border=\"1\" class=\"dataframe\">\n",
       "  <thead>\n",
       "    <tr style=\"text-align: right;\">\n",
       "      <th></th>\n",
       "      <th>price</th>\n",
       "      <th>speed</th>\n",
       "      <th>hd</th>\n",
       "      <th>ram</th>\n",
       "      <th>screen</th>\n",
       "      <th>cd</th>\n",
       "      <th>multi</th>\n",
       "      <th>premium</th>\n",
       "      <th>ads</th>\n",
       "      <th>trend</th>\n",
       "    </tr>\n",
       "  </thead>\n",
       "  <tbody>\n",
       "    <tr>\n",
       "      <th>0</th>\n",
       "      <td>1499</td>\n",
       "      <td>25</td>\n",
       "      <td>80</td>\n",
       "      <td>4</td>\n",
       "      <td>14</td>\n",
       "      <td>no</td>\n",
       "      <td>no</td>\n",
       "      <td>yes</td>\n",
       "      <td>94</td>\n",
       "      <td>1</td>\n",
       "    </tr>\n",
       "    <tr>\n",
       "      <th>1</th>\n",
       "      <td>1795</td>\n",
       "      <td>33</td>\n",
       "      <td>85</td>\n",
       "      <td>2</td>\n",
       "      <td>14</td>\n",
       "      <td>no</td>\n",
       "      <td>no</td>\n",
       "      <td>yes</td>\n",
       "      <td>94</td>\n",
       "      <td>1</td>\n",
       "    </tr>\n",
       "    <tr>\n",
       "      <th>2</th>\n",
       "      <td>1595</td>\n",
       "      <td>25</td>\n",
       "      <td>170</td>\n",
       "      <td>4</td>\n",
       "      <td>15</td>\n",
       "      <td>no</td>\n",
       "      <td>no</td>\n",
       "      <td>yes</td>\n",
       "      <td>94</td>\n",
       "      <td>1</td>\n",
       "    </tr>\n",
       "    <tr>\n",
       "      <th>3</th>\n",
       "      <td>1849</td>\n",
       "      <td>25</td>\n",
       "      <td>170</td>\n",
       "      <td>8</td>\n",
       "      <td>14</td>\n",
       "      <td>no</td>\n",
       "      <td>no</td>\n",
       "      <td>no</td>\n",
       "      <td>94</td>\n",
       "      <td>1</td>\n",
       "    </tr>\n",
       "    <tr>\n",
       "      <th>4</th>\n",
       "      <td>3295</td>\n",
       "      <td>33</td>\n",
       "      <td>340</td>\n",
       "      <td>16</td>\n",
       "      <td>14</td>\n",
       "      <td>no</td>\n",
       "      <td>no</td>\n",
       "      <td>yes</td>\n",
       "      <td>94</td>\n",
       "      <td>1</td>\n",
       "    </tr>\n",
       "  </tbody>\n",
       "</table>\n",
       "</div>"
      ],
      "text/plain": [
       "   price  speed   hd  ram  screen  cd multi premium  ads  trend\n",
       "0   1499     25   80    4      14  no    no     yes   94      1\n",
       "1   1795     33   85    2      14  no    no     yes   94      1\n",
       "2   1595     25  170    4      15  no    no     yes   94      1\n",
       "3   1849     25  170    8      14  no    no      no   94      1\n",
       "4   3295     33  340   16      14  no    no     yes   94      1"
      ]
     },
     "execution_count": 6,
     "metadata": {},
     "output_type": "execute_result"
    }
   ],
   "source": [
    "ComputerPricesData.head()"
   ]
  },
  {
   "cell_type": "markdown",
   "id": "8766edff",
   "metadata": {},
   "source": [
    "# Define the Problem Statement\n",
    "\n",
    "**Create a ML model which can predict the apt price of a computer**\n",
    "* Target Variable: price\n",
    "* Predictors: RAM, HDD, CD, ports etc.\n",
    "\n",
    "# Determining the type of Machine Learning\n",
    "\n",
    "Based on the problem statement you can understand that we need to create a**supervised ML Regression model**, as the target variable is Continuous.\n",
    "\n",
    "# Looking at the distribution of Target variable\n",
    "* If target variable's distribution is too skewed then the predictive modeling will not be possible.\n",
    "* Bell curve is desirable but slightly positive skew or negative skew is also fine\n",
    "* When performing Regression, make sure the histogram looks like a bell curve or slight skewed version of it. Otherwise it impacts the Machine Learning algorithms ability to learn all the scenarios."
   ]
  },
  {
   "cell_type": "code",
   "execution_count": 7,
   "id": "6607cc92",
   "metadata": {},
   "outputs": [
    {
     "data": {
      "text/plain": [
       "<AxesSubplot:>"
      ]
     },
     "execution_count": 7,
     "metadata": {},
     "output_type": "execute_result"
    },
    {
     "data": {
      "image/png": "[encoded data removed]",
      "text/plain": [
       "<Figure size 720x360 with 1 Axes>"
      ]
     },
     "metadata": {
      "needs_background": "light"
     },
     "output_type": "display_data"
    }
   ],
   "source": [
    "#Create a Histogram for Target Variable\n",
    "\n",
    "ComputerPricesData['price'].hist(figsize=(10,5))"
   ]
  },
  {
   "cell_type": "markdown",
   "id": "38169c5e",
   "metadata": {},
   "source": [
    "The data distribution of the target variable is satisfactory to proceed further. There are sufficient number of rows for each type of values to learn from."
   ]
  },
  {
   "cell_type": "markdown",
   "id": "3849da6d",
   "metadata": {},
   "source": [
    "# Basic Data Exploration\n",
    "\n",
    "This step is performed to guage the overall data. The volume of data, the types of columns present in the data. Initial assessment of the data should be done to identify which columns are Quantitative, Categorical or Qualitative.\n",
    "\n",
    "This step helps to start the column rejection process. You must look at each column carefully and ask, does this column affect the values of the Target variable? For example in this case study, you will ask, does this column affect the price of the computer? If the answer is a clear \"No\", then remove the column immediately from the data, otherwise keep the column for further analysis.\n",
    "\n",
    "There are four commands which are used for Basic data exploration in Python\n",
    "\n",
    "* **head()** : This helps to see a few sample rows of the data\n",
    "* **info()** : This provides the summarized information of the data\n",
    "* **describe()** : This provides the descriptive statistical details of the data\n",
    "* **nunique()**: This helps us to identify if a column is categorical or continuous\n"
   ]
  },
  {
   "cell_type": "code",
   "execution_count": 8,
   "id": "dc3ed910",
   "metadata": {},
   "outputs": [
    {
     "data": {
      "text/html": [
       "<div>\n",
       "<style scoped>\n",
       "    .dataframe tbody tr th:only-of-type {\n",
       "        vertical-align: middle;\n",
       "    }\n",
       "\n",
       "    .dataframe tbody tr th {\n",
       "        vertical-align: top;\n",
       "    }\n",
       "\n",
       "    .dataframe thead th {\n",
       "        text-align: right;\n",
       "    }\n",
       "</style>\n",
       "<table border=\"1\" class=\"dataframe\">\n",
       "  <thead>\n",
       "    <tr style=\"text-align: right;\">\n",
       "      <th></th>\n",
       "      <th>price</th>\n",
       "      <th>speed</th>\n",
       "      <th>hd</th>\n",
       "      <th>ram</th>\n",
       "      <th>screen</th>\n",
       "      <th>cd</th>\n",
       "      <th>multi</th>\n",
       "      <th>premium</th>\n",
       "      <th>ads</th>\n",
       "      <th>trend</th>\n",
       "    </tr>\n",
       "  </thead>\n",
       "  <tbody>\n",
       "    <tr>\n",
       "      <th>0</th>\n",
       "      <td>1499</td>\n",
       "      <td>25</td>\n",
       "      <td>80</td>\n",
       "      <td>4</td>\n",
       "      <td>14</td>\n",
       "      <td>no</td>\n",
       "      <td>no</td>\n",
       "      <td>yes</td>\n",
       "      <td>94</td>\n",
       "      <td>1</td>\n",
       "    </tr>\n",
       "    <tr>\n",
       "      <th>1</th>\n",
       "      <td>1795</td>\n",
       "      <td>33</td>\n",
       "      <td>85</td>\n",
       "      <td>2</td>\n",
       "      <td>14</td>\n",
       "      <td>no</td>\n",
       "      <td>no</td>\n",
       "      <td>yes</td>\n",
       "      <td>94</td>\n",
       "      <td>1</td>\n",
       "    </tr>\n",
       "    <tr>\n",
       "      <th>2</th>\n",
       "      <td>1595</td>\n",
       "      <td>25</td>\n",
       "      <td>170</td>\n",
       "      <td>4</td>\n",
       "      <td>15</td>\n",
       "      <td>no</td>\n",
       "      <td>no</td>\n",
       "      <td>yes</td>\n",
       "      <td>94</td>\n",
       "      <td>1</td>\n",
       "    </tr>\n",
       "    <tr>\n",
       "      <th>3</th>\n",
       "      <td>1849</td>\n",
       "      <td>25</td>\n",
       "      <td>170</td>\n",
       "      <td>8</td>\n",
       "      <td>14</td>\n",
       "      <td>no</td>\n",
       "      <td>no</td>\n",
       "      <td>no</td>\n",
       "      <td>94</td>\n",
       "      <td>1</td>\n",
       "    </tr>\n",
       "    <tr>\n",
       "      <th>4</th>\n",
       "      <td>3295</td>\n",
       "      <td>33</td>\n",
       "      <td>340</td>\n",
       "      <td>16</td>\n",
       "      <td>14</td>\n",
       "      <td>no</td>\n",
       "      <td>no</td>\n",
       "      <td>yes</td>\n",
       "      <td>94</td>\n",
       "      <td>1</td>\n",
       "    </tr>\n",
       "  </tbody>\n",
       "</table>\n",
       "</div>"
      ],
      "text/plain": [
       "   price  speed   hd  ram  screen  cd multi premium  ads  trend\n",
       "0   1499     25   80    4      14  no    no     yes   94      1\n",
       "1   1795     33   85    2      14  no    no     yes   94      1\n",
       "2   1595     25  170    4      15  no    no     yes   94      1\n",
       "3   1849     25  170    8      14  no    no      no   94      1\n",
       "4   3295     33  340   16      14  no    no     yes   94      1"
      ]
     },
     "execution_count": 8,
     "metadata": {},
     "output_type": "execute_result"
    }
   ],
   "source": [
    "# Looking at sample rows in the data\n",
    "\n",
    "ComputerPricesData.head()"
   ]
  },
  {
   "cell_type": "code",
   "execution_count": null,
   "id": "4b1df98b",
   "metadata": {},
   "outputs": [],
   "source": []
  },
  {
   "cell_type": "code",
   "execution_count": null,
   "id": "22c4b655",
   "metadata": {},
   "outputs": [],
   "source": []
  },
  {
   "cell_type": "code",
   "execution_count": 9,
   "id": "16af5f3e",
   "metadata": {},
   "outputs": [
    {
     "name": "stdout",
     "output_type": "stream",
     "text": [
      "<class 'pandas.core.frame.DataFrame'>\n",
      "RangeIndex: 6259 entries, 0 to 6258\n",
      "Data columns (total 10 columns):\n",
      " #   Column   Non-Null Count  Dtype \n",
      "---  ------   --------------  ----- \n",
      " 0   price    6259 non-null   int64 \n",
      " 1   speed    6259 non-null   int64 \n",
      " 2   hd       6259 non-null   int64 \n",
      " 3   ram      6259 non-null   int64 \n",
      " 4   screen   6259 non-null   int64 \n",
      " 5   cd       6259 non-null   object\n",
      " 6   multi    6259 non-null   object\n",
      " 7   premium  6259 non-null   object\n",
      " 8   ads      6259 non-null   int64 \n",
      " 9   trend    6259 non-null   int64 \n",
      "dtypes: int64(7), object(3)\n",
      "memory usage: 489.1+ KB\n"
     ]
    }
   ],
   "source": [
    "# Observing the summarized information of data\n",
    "# Data types, Missing values based on number of non-null values Vs total rows etc.\n",
    "# Remove those variables from data which have too many missing values (Missing Values > 30%)\n",
    "# Remove Qualitative variables which cannot be used in Machine Learning\n",
    "\n",
    "ComputerPricesData.info()"
   ]
  },
  {
   "cell_type": "code",
   "execution_count": 10,
   "id": "4e4fe3be",
   "metadata": {},
   "outputs": [
    {
     "data": {
      "text/html": [
       "<div>\n",
       "<style scoped>\n",
       "    .dataframe tbody tr th:only-of-type {\n",
       "        vertical-align: middle;\n",
       "    }\n",
       "\n",
       "    .dataframe tbody tr th {\n",
       "        vertical-align: top;\n",
       "    }\n",
       "\n",
       "    .dataframe thead th {\n",
       "        text-align: right;\n",
       "    }\n",
       "</style>\n",
       "<table border=\"1\" class=\"dataframe\">\n",
       "  <thead>\n",
       "    <tr style=\"text-align: right;\">\n",
       "      <th></th>\n",
       "      <th>price</th>\n",
       "      <th>speed</th>\n",
       "      <th>hd</th>\n",
       "      <th>ram</th>\n",
       "      <th>screen</th>\n",
       "      <th>cd</th>\n",
       "      <th>multi</th>\n",
       "      <th>premium</th>\n",
       "      <th>ads</th>\n",
       "      <th>trend</th>\n",
       "    </tr>\n",
       "  </thead>\n",
       "  <tbody>\n",
       "    <tr>\n",
       "      <th>count</th>\n",
       "      <td>6259.000000</td>\n",
       "      <td>6259.000000</td>\n",
       "      <td>6259.000000</td>\n",
       "      <td>6259.000000</td>\n",
       "      <td>6259.000000</td>\n",
       "      <td>6259</td>\n",
       "      <td>6259</td>\n",
       "      <td>6259</td>\n",
       "      <td>6259.000000</td>\n",
       "      <td>6259.000000</td>\n",
       "    </tr>\n",
       "    <tr>\n",
       "      <th>unique</th>\n",
       "      <td>NaN</td>\n",
       "      <td>NaN</td>\n",
       "      <td>NaN</td>\n",
       "      <td>NaN</td>\n",
       "      <td>NaN</td>\n",
       "      <td>2</td>\n",
       "      <td>2</td>\n",
       "      <td>2</td>\n",
       "      <td>NaN</td>\n",
       "      <td>NaN</td>\n",
       "    </tr>\n",
       "    <tr>\n",
       "      <th>top</th>\n",
       "      <td>NaN</td>\n",
       "      <td>NaN</td>\n",
       "      <td>NaN</td>\n",
       "      <td>NaN</td>\n",
       "      <td>NaN</td>\n",
       "      <td>no</td>\n",
       "      <td>no</td>\n",
       "      <td>yes</td>\n",
       "      <td>NaN</td>\n",
       "      <td>NaN</td>\n",
       "    </tr>\n",
       "    <tr>\n",
       "      <th>freq</th>\n",
       "      <td>NaN</td>\n",
       "      <td>NaN</td>\n",
       "      <td>NaN</td>\n",
       "      <td>NaN</td>\n",
       "      <td>NaN</td>\n",
       "      <td>3351</td>\n",
       "      <td>5386</td>\n",
       "      <td>5647</td>\n",
       "      <td>NaN</td>\n",
       "      <td>NaN</td>\n",
       "    </tr>\n",
       "    <tr>\n",
       "      <th>mean</th>\n",
       "      <td>2219.576610</td>\n",
       "      <td>52.011024</td>\n",
       "      <td>416.601694</td>\n",
       "      <td>8.286947</td>\n",
       "      <td>14.608723</td>\n",
       "      <td>NaN</td>\n",
       "      <td>NaN</td>\n",
       "      <td>NaN</td>\n",
       "      <td>221.301007</td>\n",
       "      <td>15.926985</td>\n",
       "    </tr>\n",
       "    <tr>\n",
       "      <th>std</th>\n",
       "      <td>580.803956</td>\n",
       "      <td>21.157735</td>\n",
       "      <td>258.548445</td>\n",
       "      <td>5.631099</td>\n",
       "      <td>0.905115</td>\n",
       "      <td>NaN</td>\n",
       "      <td>NaN</td>\n",
       "      <td>NaN</td>\n",
       "      <td>74.835284</td>\n",
       "      <td>7.873984</td>\n",
       "    </tr>\n",
       "    <tr>\n",
       "      <th>min</th>\n",
       "      <td>949.000000</td>\n",
       "      <td>25.000000</td>\n",
       "      <td>80.000000</td>\n",
       "      <td>2.000000</td>\n",
       "      <td>14.000000</td>\n",
       "      <td>NaN</td>\n",
       "      <td>NaN</td>\n",
       "      <td>NaN</td>\n",
       "      <td>39.000000</td>\n",
       "      <td>1.000000</td>\n",
       "    </tr>\n",
       "    <tr>\n",
       "      <th>25%</th>\n",
       "      <td>1794.000000</td>\n",
       "      <td>33.000000</td>\n",
       "      <td>214.000000</td>\n",
       "      <td>4.000000</td>\n",
       "      <td>14.000000</td>\n",
       "      <td>NaN</td>\n",
       "      <td>NaN</td>\n",
       "      <td>NaN</td>\n",
       "      <td>162.500000</td>\n",
       "      <td>10.000000</td>\n",
       "    </tr>\n",
       "    <tr>\n",
       "      <th>50%</th>\n",
       "      <td>2144.000000</td>\n",
       "      <td>50.000000</td>\n",
       "      <td>340.000000</td>\n",
       "      <td>8.000000</td>\n",
       "      <td>14.000000</td>\n",
       "      <td>NaN</td>\n",
       "      <td>NaN</td>\n",
       "      <td>NaN</td>\n",
       "      <td>246.000000</td>\n",
       "      <td>16.000000</td>\n",
       "    </tr>\n",
       "    <tr>\n",
       "      <th>75%</th>\n",
       "      <td>2595.000000</td>\n",
       "      <td>66.000000</td>\n",
       "      <td>528.000000</td>\n",
       "      <td>8.000000</td>\n",
       "      <td>15.000000</td>\n",
       "      <td>NaN</td>\n",
       "      <td>NaN</td>\n",
       "      <td>NaN</td>\n",
       "      <td>275.000000</td>\n",
       "      <td>21.500000</td>\n",
       "    </tr>\n",
       "    <tr>\n",
       "      <th>max</th>\n",
       "      <td>5399.000000</td>\n",
       "      <td>100.000000</td>\n",
       "      <td>2100.000000</td>\n",
       "      <td>32.000000</td>\n",
       "      <td>17.000000</td>\n",
       "      <td>NaN</td>\n",
       "      <td>NaN</td>\n",
       "      <td>NaN</td>\n",
       "      <td>339.000000</td>\n",
       "      <td>35.000000</td>\n",
       "    </tr>\n",
       "  </tbody>\n",
       "</table>\n",
       "</div>"
      ],
      "text/plain": [
       "              price        speed           hd          ram       screen    cd  \\\n",
       "count   6259.000000  6259.000000  6259.000000  6259.000000  6259.000000  6259   \n",
       "unique          NaN          NaN          NaN          NaN          NaN     2   \n",
       "top             NaN          NaN          NaN          NaN          NaN    no   \n",
       "freq            NaN          NaN          NaN          NaN          NaN  3351   \n",
       "mean    2219.576610    52.011024   416.601694     8.286947    14.608723   NaN   \n",
       "std      580.803956    21.157735   258.548445     5.631099     0.905115   NaN   \n",
       "min      949.000000    25.000000    80.000000     2.000000    14.000000   NaN   \n",
       "25%     1794.000000    33.000000   214.000000     4.000000    14.000000   NaN   \n",
       "50%     2144.000000    50.000000   340.000000     8.000000    14.000000   NaN   \n",
       "75%     2595.000000    66.000000   528.000000     8.000000    15.000000   NaN   \n",
       "max     5399.000000   100.000000  2100.000000    32.000000    17.000000   NaN   \n",
       "\n",
       "       multi premium          ads        trend  \n",
       "count   6259    6259  6259.000000  6259.000000  \n",
       "unique     2       2          NaN          NaN  \n",
       "top       no     yes          NaN          NaN  \n",
       "freq    5386    5647          NaN          NaN  \n",
       "mean     NaN     NaN   221.301007    15.926985  \n",
       "std      NaN     NaN    74.835284     7.873984  \n",
       "min      NaN     NaN    39.000000     1.000000  \n",
       "25%      NaN     NaN   162.500000    10.000000  \n",
       "50%      NaN     NaN   246.000000    16.000000  \n",
       "75%      NaN     NaN   275.000000    21.500000  \n",
       "max      NaN     NaN   339.000000    35.000000  "
      ]
     },
     "execution_count": 10,
     "metadata": {},
     "output_type": "execute_result"
    }
   ],
   "source": [
    "# Looking at the descriptive statistics of the data\n",
    "\n",
    "ComputerPricesData.describe(include='all') "
   ]
  },
  {
   "cell_type": "code",
   "execution_count": 12,
   "id": "1368f539",
   "metadata": {},
   "outputs": [
    {
     "data": {
      "text/plain": [
       "price      808\n",
       "speed        6\n",
       "hd          59\n",
       "ram          6\n",
       "screen       3\n",
       "cd           2\n",
       "multi        2\n",
       "premium      2\n",
       "ads         34\n",
       "trend       35\n",
       "dtype: int64"
      ]
     },
     "execution_count": 12,
     "metadata": {},
     "output_type": "execute_result"
    }
   ],
   "source": [
    "# Finging unique values for each column\n",
    "# TO understand which column is categorical and which one is Continuous\n",
    "# Typically if the numer of unique values are < 20 then the variable is likely to be a category otherwise continuous\n",
    "\n",
    "ComputerPricesData.nunique()"
   ]
  },
  {
   "cell_type": "markdown",
   "id": "bd1f17cc",
   "metadata": {},
   "source": [
    "## Basic Data Exploration Results\n",
    "\n",
    "The selected columns in this step are not final, further study will be done and then a final list will be created\n",
    "\n",
    "* **price:** Continuous. Selected.This is the **Target Variable!**\n",
    "* **speed:** Continuous. Selected\n",
    "* **hd:** Continuous. Selected\n",
    "* **ram:** Categorical. Selected\n",
    "* **screen:** Categorical. Selected\n",
    "* **cd:** Categorical. Selected\n",
    "* **multi:** Categorical. Selected\n",
    "* **premium:** Categorical. Selected\n",
    "* **ads:** Continuous. Selected\n",
    "* **trend:** Continuous. Selected"
   ]
  },
  {
   "cell_type": "code",
   "execution_count": null,
   "id": "9c35dd8a",
   "metadata": {},
   "outputs": [],
   "source": []
  },
  {
   "cell_type": "markdown",
   "id": "1daca960",
   "metadata": {},
   "source": [
    "# Removing useless columns from the data\n",
    "\n",
    "There are no qualitative columns in this data"
   ]
  },
  {
   "cell_type": "code",
   "execution_count": null,
   "id": "29ed1dc4",
   "metadata": {},
   "outputs": [],
   "source": []
  },
  {
   "cell_type": "markdown",
   "id": "472973da",
   "metadata": {},
   "source": [
    "# Visual Exploratory Data Analysis\n",
    "\n",
    "* Categorical variables: Bar plot\n",
    "* Continuous variables: Histogram\n",
    "\n",
    "Visualize distribution of all the Categorical Predictor variables in the data using bar plots\n",
    "We can spot a categorical variable in the data by looking at the unique values in them. Typically a categorical variable contains less than 20 Unique values AND there is repetition of values, which means the data can be grouped by those unique values.\n",
    "\n",
    "Based on the Basic Data Exploration above, we have spotted seven categorical predictors in the data\n",
    "\n",
    "Categorical Predictors:\n",
    "\n",
    "'ram', 'screen', 'cd', 'multi'\n",
    "\n",
    "We use bar charts to see how the data is distributed for these categorical columns.\n",
    "\n"
   ]
  },
  {
   "cell_type": "code",
   "execution_count": 14,
   "id": "16cb6c04",
   "metadata": {},
   "outputs": [],
   "source": [
    "def BarChart(Inp, Col):\n",
    "    import matplotlib.pyplot as plt\n",
    "    \n",
    "    fig, SubPlot=plt.subplots(nrows=1, ncols=len(Col), figsize=(20,5))\n",
    "    fig.suptitle('Bar Charts')\n",
    "    \n",
    "    for ColName, PlotNumber in zip(Col, range(len(Col))):\n",
    "        Inp.groupby(ColName).size().plot(kind='bar', ax=SubPlot[PlotNumber])"
   ]
  },
  {
   "cell_type": "code",
   "execution_count": 15,
   "id": "11fbac19",
   "metadata": {},
   "outputs": [
    {
     "data": {
      "image/png": "[encoded data removed]",
      "text/plain": [
       "<Figure size 1440x360 with 4 Axes>"
      ]
     },
     "metadata": {
      "needs_background": "light"
     },
     "output_type": "display_data"
    }
   ],
   "source": [
    "BarChart(Inp=ComputerPricesData, Col=['ram', 'screen', 'cd', 'multi'])"
   ]
  },
  {
   "cell_type": "markdown",
   "id": "e59c40aa",
   "metadata": {},
   "source": [
    "## Bar Charts Interpretation\n",
    "\n",
    "These bar charts represent the frequencies of each category in the Y-axis and the category names in the X-axis.\n",
    "\n",
    "In the ideal bar chart each category has comparable frequency. Hence, there are enough rows for each category in the data for the ML algorithm to learn.\n",
    "\n",
    "If there is a column which shows too skewed distribution where there is only one dominant bar and the other categories are present in very low numbers. These kind of columns may not be very helpful in machine learning. We confirm this in the correlation analysis section and take a final call to select or reject the column.\n",
    "\n",
    "**Selected Categorical Variables:** All the categorical variables are selected for further analysis.\n",
    "\n",
    "'ram', 'screen', 'cd', 'multi'"
   ]
  },
  {
   "cell_type": "markdown",
   "id": "cf4a6a0f",
   "metadata": {},
   "source": [
    "## Visualize distribution of all the Continuous Predictor variables in the data using histograms\n",
    "\n",
    "Based on the Basic Data Exploration, Three continuous predictor variables 'speed','hd','ads',and 'trend'.\n",
    "\n"
   ]
  },
  {
   "cell_type": "code",
   "execution_count": null,
   "id": "d20ac6b0",
   "metadata": {},
   "outputs": [],
   "source": []
  },
  {
   "cell_type": "code",
   "execution_count": 18,
   "id": "ae77f47c",
   "metadata": {},
   "outputs": [
    {
     "data": {
      "text/plain": [
       "array([[<AxesSubplot:title={'center':'speed'}>,\n",
       "        <AxesSubplot:title={'center':'hd'}>],\n",
       "       [<AxesSubplot:title={'center':'ads'}>,\n",
       "        <AxesSubplot:title={'center':'trend'}>]], dtype=object)"
      ]
     },
     "execution_count": 18,
     "metadata": {},
     "output_type": "execute_result"
    },
    {
     "data": {
      "image/png": "[encoded data removed]",
      "text/plain": [
       "<Figure size 1440x864 with 4 Axes>"
      ]
     },
     "metadata": {
      "needs_background": "light"
     },
     "output_type": "display_data"
    }
   ],
   "source": [
    "#Continuous Columns are 'speed','hd','ads',and 'trend'\n",
    "#We use Histogram to see the data distribution\n",
    "\n",
    "Columns=['speed','hd','ads','trend']\n",
    "\n",
    "ComputerPricesData[Columns].hist(figsize=(20,12))\n",
    "    "
   ]
  },
  {
   "cell_type": "markdown",
   "id": "ae328f11",
   "metadata": {},
   "source": [
    "## Histogram Interpretation\n",
    "\n",
    "Histograms shows us the data distribution for a single continuous variable.\n",
    "\n",
    "The X-axis shows the range of values and Y-axis represent the number of values in that range. For example, in the above histogram of \"speed\", there are around 2000 rows in data that has a value between 30 to 40.\n",
    "\n",
    "The ideal outcome for histogram is a bell curve or slightly skewed bell curve. If there is too much skewness, then outlier treatment should be done and the column should be re-examined, if that also does not solve the problem then only reject the column.\n",
    "\n",
    "**Selected Continuous Variables:**\n",
    "\n",
    "* **ads:** Selected. The distribution is good.\n",
    "* **hd:** Selected. The distribution is good.\n",
    "* **speed:** Selected. The distribution is good.\n",
    "* **trend:** Selected. The distribution is good."
   ]
  },
  {
   "cell_type": "code",
   "execution_count": null,
   "id": "62419b3a",
   "metadata": {},
   "outputs": [],
   "source": []
  },
  {
   "cell_type": "markdown",
   "id": "9cc9ebdb",
   "metadata": {},
   "source": [
    "# Outlier treatment\n",
    "\n",
    "Outliers are extreme values in the data which are far away from most of the values. You can see them as the tails in the histogram.\n",
    "\n",
    "Outlier must be treated one column at a time. As the treatment will be slightly different for each column.\n",
    "\n",
    "**Why I should treat the outliers?**\n",
    "\n",
    "Outliers bias the training of machine learning models. As the algorithm tries to fit the extreme value, it goes away from majority of the data.\n",
    "\n",
    "There are below two options to treat outliers in the data.\n",
    "\n",
    "* Option-1: Delete the outlier Records. Only if there are just few rows lost.\n",
    "* Option-2: Impute the outlier values with a logical business value\n",
    "\n",
    "In this data no prominent outliers are present, hence, not treating outlier in this section"
   ]
  },
  {
   "cell_type": "code",
   "execution_count": null,
   "id": "442f2e51",
   "metadata": {},
   "outputs": [],
   "source": []
  },
  {
   "cell_type": "markdown",
   "id": "f8560eaa",
   "metadata": {},
   "source": [
    "# Missing values treatment\n",
    "\n",
    "Missing values are treated for each column separately.\n",
    "\n",
    "If a column has more than 30% data missing, then missing value treatment cannot be done. That column must be rejected because too much information is missing.\n",
    "\n",
    "There are below options for treating missing values in data.\n",
    "\n",
    "* Delete the missing value rows if there are only few records\n",
    "* Impute the missing values with MEDIAN value for continuous variables\n",
    "* Impute the missing values with MODE value for categorical variables\n",
    "* Interpolate the values based on nearby values\n",
    "* Interpolate the values based on business logic\n"
   ]
  },
  {
   "cell_type": "code",
   "execution_count": 16,
   "id": "fa3246f4",
   "metadata": {},
   "outputs": [
    {
     "data": {
      "text/plain": [
       "price      0\n",
       "speed      0\n",
       "hd         0\n",
       "ram        0\n",
       "screen     0\n",
       "cd         0\n",
       "multi      0\n",
       "premium    0\n",
       "ads        0\n",
       "trend      0\n",
       "dtype: int64"
      ]
     },
     "execution_count": 16,
     "metadata": {},
     "output_type": "execute_result"
    }
   ],
   "source": [
    "# Finding how many missing values are there for each column\n",
    "ComputerPricesData.isnull().sum()\n"
   ]
  },
  {
   "cell_type": "markdown",
   "id": "143da971",
   "metadata": {},
   "source": [
    "No missing values in this data!!"
   ]
  },
  {
   "cell_type": "code",
   "execution_count": null,
   "id": "1aa2f0aa",
   "metadata": {},
   "outputs": [],
   "source": []
  },
  {
   "cell_type": "markdown",
   "id": "190445ab",
   "metadata": {},
   "source": [
    "# Feature Selection\n",
    "\n",
    "Now its time to finally choose the best columns(Features) which are correlated to the Target variable. This can be done directly by measuring the correlation values or ANOVA/Chi-Square tests. However, it is always helpful to visualize the relation between the Target variable and each of the predictors to get a better sense of data.\n",
    "\n",
    "I have listed below the techniques used for visualizing relationship between two variables as well as measuring the strength statistically.\n",
    "\n",
    "**Visual exploration of relationship between variables**\n",
    "* Continuous Vs Continuous ---- Scatter Plot\n",
    "* Categorical Vs Continuous---- Box Plot\n",
    "* Categorical Vs Categorical---- Grouped Bar Plots\n",
    "\n",
    "**Statistical measurement of relationship strength between variables**\n",
    "* Continuous Vs Continuous ---- Correlation matrix\n",
    "* Categorical Vs Continuous---- ANOVA test\n",
    "* Categorical Vs Categorical--- Chi-Square test\n",
    "\n",
    "In this case study the Target variable is Continuous, hence below two scenarios will be present\n",
    "\n",
    "* Continuous Target Variable Vs Continuous Predictor\n",
    "* Continuous Target Variable Vs Categorical Predictor"
   ]
  },
  {
   "cell_type": "raw",
   "id": "5e59f69d",
   "metadata": {},
   "source": []
  },
  {
   "cell_type": "markdown",
   "id": "df93a2ef",
   "metadata": {},
   "source": [
    "### Relationship exploration: Continuous Vs Continuous -- Scatter Charts\n",
    "\n",
    "When the Target variable is continuous and the predictor is also continuous, we can visualize the relationship between the two variables using scatter plot and measure the strength of relation using pearson's correlation value."
   ]
  },
  {
   "cell_type": "code",
   "execution_count": 20,
   "id": "8694dacc",
   "metadata": {},
   "outputs": [
    {
     "data": {
      "image/png": "[encoded data removed]",
      "text/plain": [
       "<Figure size 720x360 with 1 Axes>"
      ]
     },
     "metadata": {
      "needs_background": "light"
     },
     "output_type": "display_data"
    },
    {
     "data": {
      "image/png": "[encoded data removed]",
      "text/plain": [
       "<Figure size 720x360 with 1 Axes>"
      ]
     },
     "metadata": {
      "needs_background": "light"
     },
     "output_type": "display_data"
    },
    {
     "data": {
      "image/png": "[encoded data removed]",
      "text/plain": [
       "<Figure size 720x360 with 1 Axes>"
      ]
     },
     "metadata": {
      "needs_background": "light"
     },
     "output_type": "display_data"
    },
    {
     "data": {
      "image/png": "[encoded data removed]",
      "text/plain": [
       "<Figure size 720x360 with 1 Axes>"
      ]
     },
     "metadata": {
      "needs_background": "light"
     },
     "output_type": "display_data"
    }
   ],
   "source": [
    "# Plotting scatter chart for each predictor vs the target variable\n",
    "\n",
    "for K in Columns:\n",
    "    ComputerPricesData.plot.scatter(x=K, y='price', figsize=(10,5))"
   ]
  },
  {
   "cell_type": "markdown",
   "id": "2ca19541",
   "metadata": {},
   "source": [
    "### Scatter charts interpretation\n",
    "\n",
    "**What should you look for in these scatter charts?**\n",
    "\n",
    "Trend. You should try to see if there is a visible trend or not. There could be three scenarios\n",
    "\n",
    "* Increasing Trend: This means both variables are positively correlated. In simpler terms, they are directly proportional to each other, if one value increases, other also increases. This is good for ML!\n",
    "\n",
    "* Decreasing Trend: This means both variables are negatively correlated. In simpler terms, they are inversely proportional to each other, if one value increases, other decreases. This is also good for ML!\n",
    "\n",
    "* No Trend: You cannot see any clear increasing or decreasing trend. This means there is no correlation between the variables. Hence the predictor cannot be used for ML.\n",
    "\n",
    "Based on this chart you can get a good idea about the predictor, if it will be useful or not. You confirm this by looking at the correlation value.\n",
    "\n"
   ]
  },
  {
   "cell_type": "markdown",
   "id": "f0f8f3fc",
   "metadata": {},
   "source": [
    "## Statistical Feature Selection (Continuous Vs Continuous) using Correlation value\n",
    "\n",
    "This value can be calculated only between two numeric columns\n",
    "* Correlation between [-1,0) means inversely proportional, the scatter plot will show a downward trend\n",
    "* Correlation between (0,1] means directly proportional, the scatter plot will show a upward trend\n",
    "* Correlation near {0} means No relationship, the scatter plot will show no clear trend.\n",
    "* If Correlation value between two variables is > 0.5 in magnitude, it indicates good relationship the sign does not matter\n",
    "* We observe the correlations between Target variable and all other predictor variables(s) to check which columns/features/predictors are actually related to the target variable in question"
   ]
  },
  {
   "cell_type": "code",
   "execution_count": 23,
   "id": "6d3116dc",
   "metadata": {},
   "outputs": [
    {
     "data": {
      "text/html": [
       "<div>\n",
       "<style scoped>\n",
       "    .dataframe tbody tr th:only-of-type {\n",
       "        vertical-align: middle;\n",
       "    }\n",
       "\n",
       "    .dataframe tbody tr th {\n",
       "        vertical-align: top;\n",
       "    }\n",
       "\n",
       "    .dataframe thead th {\n",
       "        text-align: right;\n",
       "    }\n",
       "</style>\n",
       "<table border=\"1\" class=\"dataframe\">\n",
       "  <thead>\n",
       "    <tr style=\"text-align: right;\">\n",
       "      <th></th>\n",
       "      <th>price</th>\n",
       "      <th>speed</th>\n",
       "      <th>hd</th>\n",
       "      <th>ads</th>\n",
       "      <th>trend</th>\n",
       "    </tr>\n",
       "  </thead>\n",
       "  <tbody>\n",
       "    <tr>\n",
       "      <th>price</th>\n",
       "      <td>1.000000</td>\n",
       "      <td>0.300976</td>\n",
       "      <td>0.430258</td>\n",
       "      <td>0.054540</td>\n",
       "      <td>-0.199987</td>\n",
       "    </tr>\n",
       "    <tr>\n",
       "      <th>speed</th>\n",
       "      <td>0.300976</td>\n",
       "      <td>1.000000</td>\n",
       "      <td>0.372304</td>\n",
       "      <td>-0.215232</td>\n",
       "      <td>0.405438</td>\n",
       "    </tr>\n",
       "    <tr>\n",
       "      <th>hd</th>\n",
       "      <td>0.430258</td>\n",
       "      <td>0.372304</td>\n",
       "      <td>1.000000</td>\n",
       "      <td>-0.323222</td>\n",
       "      <td>0.577790</td>\n",
       "    </tr>\n",
       "    <tr>\n",
       "      <th>ads</th>\n",
       "      <td>0.054540</td>\n",
       "      <td>-0.215232</td>\n",
       "      <td>-0.323222</td>\n",
       "      <td>1.000000</td>\n",
       "      <td>-0.318553</td>\n",
       "    </tr>\n",
       "    <tr>\n",
       "      <th>trend</th>\n",
       "      <td>-0.199987</td>\n",
       "      <td>0.405438</td>\n",
       "      <td>0.577790</td>\n",
       "      <td>-0.318553</td>\n",
       "      <td>1.000000</td>\n",
       "    </tr>\n",
       "  </tbody>\n",
       "</table>\n",
       "</div>"
      ],
      "text/plain": [
       "          price     speed        hd       ads     trend\n",
       "price  1.000000  0.300976  0.430258  0.054540 -0.199987\n",
       "speed  0.300976  1.000000  0.372304 -0.215232  0.405438\n",
       "hd     0.430258  0.372304  1.000000 -0.323222  0.577790\n",
       "ads    0.054540 -0.215232 -0.323222  1.000000 -0.318553\n",
       "trend -0.199987  0.405438  0.577790 -0.318553  1.000000"
      ]
     },
     "execution_count": 23,
     "metadata": {},
     "output_type": "execute_result"
    }
   ],
   "source": [
    "# Calculating correlation matrix\n",
    "ContinuousCols=['price','speed','hd','ads','trend']\n",
    "\n",
    "# Creating the correlation matrix\n",
    "CorrData=ComputerPricesData[ContinuousCols].corr()\n",
    "\n",
    "CorrData"
   ]
  },
  {
   "cell_type": "code",
   "execution_count": 24,
   "id": "123a4804",
   "metadata": {},
   "outputs": [
    {
     "data": {
      "text/plain": [
       "price    1.000000\n",
       "speed    0.300976\n",
       "hd       0.430258\n",
       "Name: price, dtype: float64"
      ]
     },
     "execution_count": 24,
     "metadata": {},
     "output_type": "execute_result"
    }
   ],
   "source": [
    "# Filtering only those columns where absolute correlation > 0.5 with Target Variable\n",
    "# reduce the 0.5 threshold if no variable is selected\n",
    "CorrData['price'][abs(CorrData['price']>0.2)]"
   ]
  },
  {
   "cell_type": "markdown",
   "id": "f9f9236c",
   "metadata": {},
   "source": [
    "**Final selected Continuous columns:**\n",
    "\n",
    "'speed','hd','trend'"
   ]
  },
  {
   "cell_type": "markdown",
   "id": "3f9a8189",
   "metadata": {},
   "source": [
    "## Relationship exploration: Categorical Vs Continuous -- Box Plots\n",
    "\n",
    "When the target variable is Continuous and the predictor variable is Categorical we analyze the relation using Boxplots and measure the strength of relation using Anova test"
   ]
  },
  {
   "cell_type": "code",
   "execution_count": 25,
   "id": "ebf198e6",
   "metadata": {},
   "outputs": [
    {
     "data": {
      "image/png": "[encoded data removed]",
      "text/plain": [
       "<Figure size 1296x360 with 4 Axes>"
      ]
     },
     "metadata": {
      "needs_background": "light"
     },
     "output_type": "display_data"
    }
   ],
   "source": [
    "#Box Plot\n",
    "\n",
    "Catcol=['ram', 'screen', 'cd', 'multi']\n",
    "\n",
    "import matplotlib.pyplot as plt\n",
    "\n",
    "    \n",
    "fig, SubPlot=plt.subplots(nrows=1, ncols=len(Catcol), figsize=(18,5))\n",
    "\n",
    "    \n",
    "for ColName, i in zip(Catcol, range(len(Catcol))):\n",
    "    ComputerPricesData.boxplot(column='price', by=ColName, ax=SubPlot[i])\n",
    "        \n",
    "        \n",
    "        \n",
    "    "
   ]
  },
  {
   "cell_type": "markdown",
   "id": "3555d4ea",
   "metadata": {},
   "source": [
    "### Box-Plots interpretation\n",
    "\n",
    "What should you look for in these box plots?\n",
    "\n",
    "These plots gives an idea about the data distribution of continuous predictor in the Y-axis for each of the category in the X-Axis.\n",
    "\n",
    "If the distribution looks similar for each category(Boxes are in the same line), that means the the continuous variable has NO effect on the target variable. Hence, the variables are not correlated to each other.\n",
    "\n",
    "On the other hand if the distribution is different for each category(the boxes are not in same line!). It hints that these variables might be correlated with price.\n",
    "\n",
    "In this data, all the categorical predictors looks correlated with the Target variable except \"multi\", it seems like a border case, as the boxes are close to each other.\n",
    "\n",
    "We confirm this by looking at the results of **ANOVA test** below\n",
    "\n"
   ]
  },
  {
   "cell_type": "markdown",
   "id": "9706dfd5",
   "metadata": {},
   "source": [
    "## Statistical Feature Selection (Categorical Vs Continuous) using ANOVA test\n",
    "\n",
    "Analysis of variance(ANOVA) is performed to check if there is any relationship between the given continuous and categorical variable\n",
    "\n",
    "* Assumption(H0): There is NO relation between the given variables (i.e. The average(mean) values of the numeric Target variable is same for all the groups in the categorical Predictor variable)\n",
    "* ANOVA Test result: Probability of H0 being true\n"
   ]
  },
  {
   "cell_type": "code",
   "execution_count": 27,
   "id": "7a2a0761",
   "metadata": {},
   "outputs": [],
   "source": [
    "# Defining a function to find the statistical relationship with all the categorical variables\n",
    "\n",
    "def FunctionAnova(inp, tv, plist):\n",
    "    from scipy.stats import f_oneway\n",
    "    \n",
    "    SelectedPredictors=[]\n",
    "    \n",
    "    for Predictor in plist:\n",
    "        CotList=inp.groupby(Predictor)[tv].apply(list)\n",
    "        AnovaResult=f_oneway(*CotList)\n",
    "        \n",
    "        # If the ANOVA P-Value is <0.05, that means we reject H0\n",
    "        if (AnovaResult[1] < 0.05):\n",
    "            print(Predictor, 'is correlated with', tv, '| P-Value:', AnovaResult[1])\n",
    "            SelectedPredictors.append(Predictor)\n",
    "        else:\n",
    "            print(Predictor, 'is NOT correlated with', tv, '| P-Value:', AnovaResult[1])\n",
    "        \n",
    "    return(SelectedPredictors)\n",
    "        "
   ]
  },
  {
   "cell_type": "code",
   "execution_count": 28,
   "id": "063fe5aa",
   "metadata": {},
   "outputs": [
    {
     "name": "stdout",
     "output_type": "stream",
     "text": [
      "ram is correlated with price | P-Value: 0.0\n",
      "screen is correlated with price | P-Value: 1.7979337838597882e-132\n",
      "cd is correlated with price | P-Value: 5.439449136508735e-56\n",
      "multi is NOT correlated with price | P-Value: 0.1877771427064562\n"
     ]
    },
    {
     "data": {
      "text/plain": [
       "['ram', 'screen', 'cd']"
      ]
     },
     "execution_count": 28,
     "metadata": {},
     "output_type": "execute_result"
    }
   ],
   "source": [
    "# Calling the function to check which categorical variables are correlated with target\n",
    "\n",
    "plists=['ram', 'screen', 'cd', 'multi']\n",
    "\n",
    "FunctionAnova(inp=ComputerPricesData, tv='price', plist=plists)"
   ]
  },
  {
   "cell_type": "markdown",
   "id": "8733abec",
   "metadata": {},
   "source": [
    "The results of ANOVA confirm our visual analysis using box plots above.\n",
    "\n",
    "All categorical variables are correlated with the Target variable except \"multi\". This is something we guessed by looking at the box plots!\n",
    "\n",
    "**Final selected Categorical columns:**\n",
    "\n",
    "'ram', 'screen', 'cd'"
   ]
  },
  {
   "cell_type": "code",
   "execution_count": null,
   "id": "d8425ad7",
   "metadata": {},
   "outputs": [],
   "source": []
  },
  {
   "cell_type": "markdown",
   "id": "b889bca4",
   "metadata": {},
   "source": [
    "## Selecting final predictors for Machine Learning\n",
    "\n",
    "Based on the above tests, selecting the final columns for machine learning"
   ]
  },
  {
   "cell_type": "code",
   "execution_count": null,
   "id": "273646bd",
   "metadata": {},
   "outputs": [],
   "source": []
  },
  {
   "cell_type": "code",
   "execution_count": 31,
   "id": "ab44a244",
   "metadata": {},
   "outputs": [],
   "source": [
    "SelectedColumns=['speed','hd','trend','ram', 'screen', 'cd']\n",
    "\n",
    "DataForML=ComputerPricesData[SelectedColumns]"
   ]
  },
  {
   "cell_type": "code",
   "execution_count": 32,
   "id": "45d2d9b5",
   "metadata": {},
   "outputs": [
    {
     "data": {
      "text/html": [
       "<div>\n",
       "<style scoped>\n",
       "    .dataframe tbody tr th:only-of-type {\n",
       "        vertical-align: middle;\n",
       "    }\n",
       "\n",
       "    .dataframe tbody tr th {\n",
       "        vertical-align: top;\n",
       "    }\n",
       "\n",
       "    .dataframe thead th {\n",
       "        text-align: right;\n",
       "    }\n",
       "</style>\n",
       "<table border=\"1\" class=\"dataframe\">\n",
       "  <thead>\n",
       "    <tr style=\"text-align: right;\">\n",
       "      <th></th>\n",
       "      <th>speed</th>\n",
       "      <th>hd</th>\n",
       "      <th>trend</th>\n",
       "      <th>ram</th>\n",
       "      <th>screen</th>\n",
       "      <th>cd</th>\n",
       "    </tr>\n",
       "  </thead>\n",
       "  <tbody>\n",
       "    <tr>\n",
       "      <th>0</th>\n",
       "      <td>25</td>\n",
       "      <td>80</td>\n",
       "      <td>1</td>\n",
       "      <td>4</td>\n",
       "      <td>14</td>\n",
       "      <td>no</td>\n",
       "    </tr>\n",
       "    <tr>\n",
       "      <th>1</th>\n",
       "      <td>33</td>\n",
       "      <td>85</td>\n",
       "      <td>1</td>\n",
       "      <td>2</td>\n",
       "      <td>14</td>\n",
       "      <td>no</td>\n",
       "    </tr>\n",
       "    <tr>\n",
       "      <th>2</th>\n",
       "      <td>25</td>\n",
       "      <td>170</td>\n",
       "      <td>1</td>\n",
       "      <td>4</td>\n",
       "      <td>15</td>\n",
       "      <td>no</td>\n",
       "    </tr>\n",
       "    <tr>\n",
       "      <th>3</th>\n",
       "      <td>25</td>\n",
       "      <td>170</td>\n",
       "      <td>1</td>\n",
       "      <td>8</td>\n",
       "      <td>14</td>\n",
       "      <td>no</td>\n",
       "    </tr>\n",
       "    <tr>\n",
       "      <th>4</th>\n",
       "      <td>33</td>\n",
       "      <td>340</td>\n",
       "      <td>1</td>\n",
       "      <td>16</td>\n",
       "      <td>14</td>\n",
       "      <td>no</td>\n",
       "    </tr>\n",
       "  </tbody>\n",
       "</table>\n",
       "</div>"
      ],
      "text/plain": [
       "   speed   hd  trend  ram  screen  cd\n",
       "0     25   80      1    4      14  no\n",
       "1     33   85      1    2      14  no\n",
       "2     25  170      1    4      15  no\n",
       "3     25  170      1    8      14  no\n",
       "4     33  340      1   16      14  no"
      ]
     },
     "execution_count": 32,
     "metadata": {},
     "output_type": "execute_result"
    }
   ],
   "source": [
    "DataForML.head()"
   ]
  },
  {
   "cell_type": "markdown",
   "id": "f12d632f",
   "metadata": {},
   "source": [
    "# Data Pre-processing for Machine Learning\n",
    "\n",
    "List of steps performed on predictor variables before data can be used for machine learning\n",
    "\n",
    "* Converting each Ordinal Categorical columns to numeric\n",
    "* Converting Binary nominal Categorical columns to numeric using 1/0 mapping\n",
    "* Converting all other nominal categorical columns to numeric using pd.get_dummies()"
   ]
  },
  {
   "cell_type": "markdown",
   "id": "60bcaa35",
   "metadata": {},
   "source": [
    "In this data there is no Ordinal categorical variable which is in string format."
   ]
  },
  {
   "cell_type": "markdown",
   "id": "cafec7e9",
   "metadata": {},
   "source": [
    "### Converting the binary nominal variable to numeric using 1/0 mapping"
   ]
  },
  {
   "cell_type": "code",
   "execution_count": 34,
   "id": "691eada3",
   "metadata": {},
   "outputs": [],
   "source": [
    "DataForML['cd'].replace({'no':0,'yes':1}, inplace=True)"
   ]
  },
  {
   "cell_type": "code",
   "execution_count": 38,
   "id": "1cc9b078",
   "metadata": {},
   "outputs": [
    {
     "data": {
      "text/html": [
       "<div>\n",
       "<style scoped>\n",
       "    .dataframe tbody tr th:only-of-type {\n",
       "        vertical-align: middle;\n",
       "    }\n",
       "\n",
       "    .dataframe tbody tr th {\n",
       "        vertical-align: top;\n",
       "    }\n",
       "\n",
       "    .dataframe thead th {\n",
       "        text-align: right;\n",
       "    }\n",
       "</style>\n",
       "<table border=\"1\" class=\"dataframe\">\n",
       "  <thead>\n",
       "    <tr style=\"text-align: right;\">\n",
       "      <th></th>\n",
       "      <th>speed</th>\n",
       "      <th>hd</th>\n",
       "      <th>trend</th>\n",
       "      <th>ram</th>\n",
       "      <th>screen</th>\n",
       "      <th>cd</th>\n",
       "    </tr>\n",
       "  </thead>\n",
       "  <tbody>\n",
       "    <tr>\n",
       "      <th>0</th>\n",
       "      <td>25</td>\n",
       "      <td>80</td>\n",
       "      <td>1</td>\n",
       "      <td>4</td>\n",
       "      <td>14</td>\n",
       "      <td>0</td>\n",
       "    </tr>\n",
       "    <tr>\n",
       "      <th>1</th>\n",
       "      <td>33</td>\n",
       "      <td>85</td>\n",
       "      <td>1</td>\n",
       "      <td>2</td>\n",
       "      <td>14</td>\n",
       "      <td>0</td>\n",
       "    </tr>\n",
       "    <tr>\n",
       "      <th>2</th>\n",
       "      <td>25</td>\n",
       "      <td>170</td>\n",
       "      <td>1</td>\n",
       "      <td>4</td>\n",
       "      <td>15</td>\n",
       "      <td>0</td>\n",
       "    </tr>\n",
       "    <tr>\n",
       "      <th>3</th>\n",
       "      <td>25</td>\n",
       "      <td>170</td>\n",
       "      <td>1</td>\n",
       "      <td>8</td>\n",
       "      <td>14</td>\n",
       "      <td>0</td>\n",
       "    </tr>\n",
       "    <tr>\n",
       "      <th>4</th>\n",
       "      <td>33</td>\n",
       "      <td>340</td>\n",
       "      <td>1</td>\n",
       "      <td>16</td>\n",
       "      <td>14</td>\n",
       "      <td>0</td>\n",
       "    </tr>\n",
       "  </tbody>\n",
       "</table>\n",
       "</div>"
      ],
      "text/plain": [
       "   speed   hd  trend  ram  screen  cd\n",
       "0     25   80      1    4      14   0\n",
       "1     33   85      1    2      14   0\n",
       "2     25  170      1    4      15   0\n",
       "3     25  170      1    8      14   0\n",
       "4     33  340      1   16      14   0"
      ]
     },
     "execution_count": 38,
     "metadata": {},
     "output_type": "execute_result"
    }
   ],
   "source": [
    "DataForML.head()"
   ]
  },
  {
   "cell_type": "markdown",
   "id": "58655dce",
   "metadata": {},
   "source": [
    "### Converting the nominal variable to numeric using get_dummies()"
   ]
  },
  {
   "cell_type": "code",
   "execution_count": 35,
   "id": "3135bbf3",
   "metadata": {},
   "outputs": [],
   "source": [
    "# Treating all the nominal variables at once using dummy variables\n",
    "DataForML_Numeric=pd.get_dummies(DataForML)"
   ]
  },
  {
   "cell_type": "code",
   "execution_count": 36,
   "id": "e93b7ecc",
   "metadata": {},
   "outputs": [],
   "source": [
    "# Adding Target Variable to the data\n",
    "DataForML_Numeric['price']=ComputerPricesData['price']"
   ]
  },
  {
   "cell_type": "code",
   "execution_count": 37,
   "id": "e89547a2",
   "metadata": {},
   "outputs": [
    {
     "data": {
      "text/html": [
       "<div>\n",
       "<style scoped>\n",
       "    .dataframe tbody tr th:only-of-type {\n",
       "        vertical-align: middle;\n",
       "    }\n",
       "\n",
       "    .dataframe tbody tr th {\n",
       "        vertical-align: top;\n",
       "    }\n",
       "\n",
       "    .dataframe thead th {\n",
       "        text-align: right;\n",
       "    }\n",
       "</style>\n",
       "<table border=\"1\" class=\"dataframe\">\n",
       "  <thead>\n",
       "    <tr style=\"text-align: right;\">\n",
       "      <th></th>\n",
       "      <th>speed</th>\n",
       "      <th>hd</th>\n",
       "      <th>trend</th>\n",
       "      <th>ram</th>\n",
       "      <th>screen</th>\n",
       "      <th>cd</th>\n",
       "      <th>price</th>\n",
       "    </tr>\n",
       "  </thead>\n",
       "  <tbody>\n",
       "    <tr>\n",
       "      <th>0</th>\n",
       "      <td>25</td>\n",
       "      <td>80</td>\n",
       "      <td>1</td>\n",
       "      <td>4</td>\n",
       "      <td>14</td>\n",
       "      <td>0</td>\n",
       "      <td>1499</td>\n",
       "    </tr>\n",
       "    <tr>\n",
       "      <th>1</th>\n",
       "      <td>33</td>\n",
       "      <td>85</td>\n",
       "      <td>1</td>\n",
       "      <td>2</td>\n",
       "      <td>14</td>\n",
       "      <td>0</td>\n",
       "      <td>1795</td>\n",
       "    </tr>\n",
       "    <tr>\n",
       "      <th>2</th>\n",
       "      <td>25</td>\n",
       "      <td>170</td>\n",
       "      <td>1</td>\n",
       "      <td>4</td>\n",
       "      <td>15</td>\n",
       "      <td>0</td>\n",
       "      <td>1595</td>\n",
       "    </tr>\n",
       "    <tr>\n",
       "      <th>3</th>\n",
       "      <td>25</td>\n",
       "      <td>170</td>\n",
       "      <td>1</td>\n",
       "      <td>8</td>\n",
       "      <td>14</td>\n",
       "      <td>0</td>\n",
       "      <td>1849</td>\n",
       "    </tr>\n",
       "    <tr>\n",
       "      <th>4</th>\n",
       "      <td>33</td>\n",
       "      <td>340</td>\n",
       "      <td>1</td>\n",
       "      <td>16</td>\n",
       "      <td>14</td>\n",
       "      <td>0</td>\n",
       "      <td>3295</td>\n",
       "    </tr>\n",
       "  </tbody>\n",
       "</table>\n",
       "</div>"
      ],
      "text/plain": [
       "   speed   hd  trend  ram  screen  cd  price\n",
       "0     25   80      1    4      14   0   1499\n",
       "1     33   85      1    2      14   0   1795\n",
       "2     25  170      1    4      15   0   1595\n",
       "3     25  170      1    8      14   0   1849\n",
       "4     33  340      1   16      14   0   3295"
      ]
     },
     "execution_count": 37,
     "metadata": {},
     "output_type": "execute_result"
    }
   ],
   "source": [
    "# Printing sample rows\n",
    "DataForML_Numeric.head()"
   ]
  },
  {
   "cell_type": "code",
   "execution_count": null,
   "id": "632c2201",
   "metadata": {},
   "outputs": [],
   "source": []
  },
  {
   "cell_type": "markdown",
   "id": "cc82c1fd",
   "metadata": {},
   "source": [
    "# Machine Learning: Splitting the data into Training and Testing sample\n",
    "\n",
    "We dont use the full data for creating the model. Some data is randomly selected and kept aside for checking how good the model is. This is known as Testing Data and the remaining data is called Training data on which the model is built. Typically 70% of data is used as Training data and the rest 30% is used as Tesing data."
   ]
  },
  {
   "cell_type": "code",
   "execution_count": 39,
   "id": "697b3d0f",
   "metadata": {},
   "outputs": [
    {
     "data": {
      "text/plain": [
       "Index(['speed', 'hd', 'trend', 'ram', 'screen', 'cd', 'price'], dtype='object')"
      ]
     },
     "execution_count": 39,
     "metadata": {},
     "output_type": "execute_result"
    }
   ],
   "source": [
    "DataForML_Numeric.columns"
   ]
  },
  {
   "cell_type": "code",
   "execution_count": 40,
   "id": "71ebfe18",
   "metadata": {},
   "outputs": [],
   "source": [
    "#Splitting Data for trainig and testing\n",
    "\n",
    "TargetVariable='price'\n",
    "Predictors=['speed', 'hd', 'trend', 'ram', 'screen', 'cd']\n",
    "\n",
    "x=DataForML_Numeric[Predictors].values\n",
    "y=DataForML_Numeric[TargetVariable].values\n",
    "\n",
    "\n",
    "from sklearn.model_selection import train_test_split\n",
    "\n",
    "x_train,x_test,y_train,y_test=train_test_split(x,y, test_size=0.3, random_state=300)\n",
    "\n"
   ]
  },
  {
   "cell_type": "markdown",
   "id": "8aeb0c3e",
   "metadata": {},
   "source": [
    "## Linear Regression Model"
   ]
  },
  {
   "cell_type": "code",
   "execution_count": 43,
   "id": "8e76c224",
   "metadata": {},
   "outputs": [
    {
     "name": "stdout",
     "output_type": "stream",
     "text": [
      "LinearRegression()\n",
      "R2 Value: 0.7011695764375119\n"
     ]
    }
   ],
   "source": [
    "from sklearn.linear_model import LinearRegression\n",
    "\n",
    "RegModel=LinearRegression()\n",
    "\n",
    "print(RegModel)\n",
    "\n",
    "#Create model for training\n",
    "LREG=RegModel.fit(x_train, y_train)\n",
    "Prediction=LREG.predict(x_test)\n",
    "\n",
    "# Measuring Goodness of fit in Training data\n",
    "from sklearn import metrics\n",
    "print('R2 Value:',metrics.r2_score(y_train, LREG.predict(x_train)))"
   ]
  },
  {
   "cell_type": "code",
   "execution_count": 42,
   "id": "758de08f",
   "metadata": {},
   "outputs": [
    {
     "name": "stdout",
     "output_type": "stream",
     "text": [
      "   price  Predictedprice\n",
      "0   1974         1472.34\n",
      "1   1819         2010.35\n",
      "2   1845         1720.31\n",
      "3   1994         2057.63\n",
      "4   2199         2277.74\n"
     ]
    }
   ],
   "source": [
    "# Printing some sample values of prediction\n",
    "\n",
    "TestResultData=pd.DataFrame(data=x_test, columns=Predictors)\n",
    "TestResultData[TargetVariable]=y_test\n",
    "TestResultData[('Predicted'+TargetVariable)]=np.round(Prediction,2)\n",
    "\n",
    "print(TestResultData[[TargetVariable,'Predicted'+TargetVariable]].head())"
   ]
  },
  {
   "cell_type": "code",
   "execution_count": 50,
   "id": "b110434e",
   "metadata": {},
   "outputs": [
    {
     "name": "stdout",
     "output_type": "stream",
     "text": [
      "Mean Accuracy: 89.22377963563055\n",
      "Median Accuracy: 92.04052718644158\n"
     ]
    }
   ],
   "source": [
    "#Calculating the error\n",
    "\n",
    "TestResultData['APE']=100*((abs(TestResultData['price']-TestResultData['Predictedprice']))/TestResultData['price'])\n",
    "                           \n",
    "MAPE=np.mean(TestResultData['APE'])\n",
    "MedianAPE=np.median(TestResultData['APE'])  \n",
    "\n",
    "Accuracy=100-MAPE\n",
    "MedianAccuracy=100-MedianAPE\n",
    "\n",
    "print('Mean Accuracy:',Accuracy)\n",
    "print('Median Accuracy:',MedianAccuracy)\n",
    "             \n"
   ]
  },
  {
   "cell_type": "code",
   "execution_count": 51,
   "id": "95c51485",
   "metadata": {},
   "outputs": [
    {
     "name": "stdout",
     "output_type": "stream",
     "text": [
      "\n",
      "Accuracy values for 10-fold Cross Validation:\n",
      " [89.81065815 91.86792133 92.28880856 88.89565581 88.57501587 89.43683652\n",
      " 88.13989988 91.16388206 91.89831051 85.75591844]\n",
      "\n",
      "Final Average Accuracy of the model: 89.78\n"
     ]
    }
   ],
   "source": [
    "# Defining a custom function to calculate accuracy\n",
    "# Defining a custom function to calculate accuracy\n",
    "# Make sure there are no zeros in the Target variable if you are using MAPE\n",
    "\n",
    "def Accuracy_Score(Org, Pred):\n",
    "    MAPE=np.mean(100*(np.abs(Org-Pred))/Org)\n",
    "    return(100-MAPE)\n",
    "\n",
    "# Custom Scoring MAPE calculation\n",
    "\n",
    "from sklearn.metrics import make_scorer\n",
    "Custome_Scorere=make_scorer(Accuracy_Score, greater_is_better=True)\n",
    "\n",
    "# Importing cross validation function from sklearn\n",
    "from sklearn.model_selection import cross_val_score\n",
    "\n",
    "# Running 10-Fold Cross validation on a given algorithm\n",
    "Accuracy_Values=cross_val_score(RegModel, x , y, cv=10, scoring=Custome_Scorere)\n",
    "print('\\nAccuracy values for 10-fold Cross Validation:\\n',Accuracy_Values)\n",
    "print('\\nFinal Average Accuracy of the model:', round(Accuracy_Values.mean(),2))"
   ]
  },
  {
   "cell_type": "code",
   "execution_count": null,
   "id": "c1d60b37",
   "metadata": {},
   "outputs": [],
   "source": []
  },
  {
   "cell_type": "markdown",
   "id": "e17d71c6",
   "metadata": {},
   "source": [
    "# Decision Trees"
   ]
  },
  {
   "cell_type": "code",
   "execution_count": 56,
   "id": "bfa630e9",
   "metadata": {},
   "outputs": [
    {
     "name": "stdout",
     "output_type": "stream",
     "text": [
      "DecisionTreeRegressor(max_depth=10)\n",
      "R2 Value: 0.8890522516748602\n"
     ]
    }
   ],
   "source": [
    "# Decision Trees (Multiple if-else statements!)\n",
    "from sklearn.tree import DecisionTreeRegressor\n",
    "RegModel = DecisionTreeRegressor(max_depth=10,criterion='mse')\n",
    "# Good Range of Max_depth = 2 to 20\n",
    "\n",
    "# Printing all the parameters of Decision Tree\n",
    "print(RegModel)\n",
    "\n",
    "# Creating the model on Training Data\n",
    "DT=RegModel.fit(x_train,y_train)\n",
    "prediction=DT.predict(x_test)\n",
    "\n",
    "from sklearn import metrics\n",
    "# Measuring Goodness of fit in Training data\n",
    "print('R2 Value:',metrics.r2_score(y_train, DT.predict(x_train)))"
   ]
  },
  {
   "cell_type": "code",
   "execution_count": 57,
   "id": "6c22addb",
   "metadata": {},
   "outputs": [
    {
     "name": "stdout",
     "output_type": "stream",
     "text": [
      "\n",
      "##### Model Validation and Accuracy Calculations ##########\n",
      "   price  Predictedprice\n",
      "0   1974          1432.0\n",
      "1   1819          1758.0\n",
      "2   1845          1916.0\n",
      "3   1994          1869.0\n",
      "4   2199          2521.0\n",
      "Mean Accuracy on test data: 92.16951951255722\n",
      "Median Accuracy on test data: 94.59598558929491\n"
     ]
    },
    {
     "data": {
      "image/png": "[encoded data removed]",
      "text/plain": [
       "<Figure size 432x288 with 1 Axes>"
      ]
     },
     "metadata": {
      "needs_background": "light"
     },
     "output_type": "display_data"
    }
   ],
   "source": [
    "# Plotting the feature importance for Top 10 most important columns\n",
    "%matplotlib inline\n",
    "feature_importances = pd.Series(DT.feature_importances_, index=Predictors)\n",
    "feature_importances.nlargest(10).plot(kind='barh')\n",
    "\n",
    "###########################################################################\n",
    "print('\\n##### Model Validation and Accuracy Calculations ##########')\n",
    "\n",
    "# Printing some sample values of prediction\n",
    "TestingDataResults=pd.DataFrame(data=x_test, columns=Predictors)\n",
    "TestingDataResults[TargetVariable]=y_test\n",
    "TestingDataResults[('Predicted'+TargetVariable)]=np.round(prediction)\n",
    "\n",
    "# Printing sample prediction values\n",
    "print(TestingDataResults[[TargetVariable,'Predicted'+TargetVariable]].head())\n",
    "\n",
    "# Calculating the error for each row\n",
    "TestingDataResults['APE']=100 * ((abs(\n",
    "  TestingDataResults['price']-TestingDataResults['Predictedprice']))/TestingDataResults['price'])\n",
    "\n",
    "MAPE=np.mean(TestingDataResults['APE'])\n",
    "MedianMAPE=np.median(TestingDataResults['APE'])\n",
    "\n",
    "Accuracy =100 - MAPE\n",
    "MedianAccuracy=100- MedianMAPE\n",
    "print('Mean Accuracy on test data:', Accuracy) # Can be negative sometimes due to outlier\n",
    "print('Median Accuracy on test data:', MedianAccuracy)\n"
   ]
  },
  {
   "cell_type": "code",
   "execution_count": 58,
   "id": "389be9eb",
   "metadata": {},
   "outputs": [
    {
     "name": "stdout",
     "output_type": "stream",
     "text": [
      "\n",
      "Accuracy values for 10-fold Cross Validation:\n",
      " [89.81065815 91.86775117 92.28880856 88.87321063 88.49790118 89.87524213\n",
      " 88.10150252 91.0429496  92.00576198 85.74639349]\n",
      "\n",
      "Final Average Accuracy of the model: 89.81\n"
     ]
    }
   ],
   "source": [
    "# Defining a custom function to calculate accuracy\n",
    "# Make sure there are no zeros in the Target variable if you are using MAPE\n",
    "def Accuracy_Score(orig,pred):\n",
    "    MAPE = np.mean(100 * (np.abs(orig-pred)/orig))\n",
    "    #print('#'*70,'Accuracy:', 100-MAPE)\n",
    "    return(100-MAPE)\n",
    "\n",
    "# Custom Scoring MAPE calculation\n",
    "from sklearn.metrics import make_scorer\n",
    "custom_Scoring=make_scorer(Accuracy_Score, greater_is_better=True)\n",
    "\n",
    "# Importing cross validation function from sklearn\n",
    "from sklearn.model_selection import cross_val_score\n",
    "\n",
    "# Running 10-Fold Cross validation on a given algorithm\n",
    "# Passing full data X and y because the K-fold will split the data and automatically choose train/test\n",
    "Accuracy_Values=cross_val_score(RegModel, x , y, cv=10, scoring=custom_Scoring)\n",
    "print('\\nAccuracy values for 10-fold Cross Validation:\\n',Accuracy_Values)\n",
    "print('\\nFinal Average Accuracy of the model:', round(Accuracy_Values.mean(),2))"
   ]
  },
  {
   "cell_type": "code",
   "execution_count": null,
   "id": "9f425946",
   "metadata": {},
   "outputs": [],
   "source": []
  },
  {
   "cell_type": "markdown",
   "id": "ea27e7a0",
   "metadata": {},
   "source": [
    "# Random Forest"
   ]
  },
  {
   "cell_type": "code",
   "execution_count": 60,
   "id": "e4fe16b9",
   "metadata": {},
   "outputs": [
    {
     "name": "stdout",
     "output_type": "stream",
     "text": [
      "RandomForestRegressor(max_depth=10)\n",
      "R2 Value: 0.9057356247058409\n"
     ]
    }
   ],
   "source": [
    "# Random Forest (Bagging of multiple Decision Trees)\n",
    "from sklearn.ensemble import RandomForestRegressor\n",
    "RegModel = RandomForestRegressor(max_depth=10, n_estimators=100,criterion='mse')\n",
    "# Good range for max_depth: 2-10 and n_estimators: 100-1000\n",
    "\n",
    "# Printing all the parameters of Random Forest\n",
    "print(RegModel)\n",
    "\n",
    "# Creating the model on Training Data\n",
    "RF=RegModel.fit(x_train,y_train)\n",
    "prediction=RF.predict(x_test)\n",
    "\n",
    "from sklearn import metrics\n",
    "# Measuring Goodness of fit in Training data\n",
    "print('R2 Value:',metrics.r2_score(y_train, RF.predict(x_train)))\n",
    "\n"
   ]
  },
  {
   "cell_type": "code",
   "execution_count": 62,
   "id": "de124cf4",
   "metadata": {},
   "outputs": [
    {
     "name": "stdout",
     "output_type": "stream",
     "text": [
      "\n",
      "##### Model Validation and Accuracy Calculations ##########\n",
      "   price  Predictedprice\n",
      "0   1974          1558.0\n",
      "1   1819          2048.0\n",
      "2   1845          1931.0\n",
      "3   1994          2004.0\n",
      "4   2199          2554.0\n"
     ]
    },
    {
     "data": {
      "image/png": "[encoded data removed]",
      "text/plain": [
       "<Figure size 432x288 with 1 Axes>"
      ]
     },
     "metadata": {
      "needs_background": "light"
     },
     "output_type": "display_data"
    }
   ],
   "source": [
    "# Plotting the feature importance for Top 10 most important columns\n",
    "%matplotlib inline\n",
    "feature_importances = pd.Series(RF.feature_importances_, index=Predictors)\n",
    "feature_importances.nlargest(10).plot(kind='barh')\n",
    "\n",
    "###########################################################################\n",
    "print('\\n##### Model Validation and Accuracy Calculations ##########')\n",
    "\n",
    "# Printing some sample values of prediction\n",
    "TestingDataResults=pd.DataFrame(data=x_test, columns=Predictors)\n",
    "TestingDataResults[TargetVariable]=y_test\n",
    "TestingDataResults[('Predicted'+TargetVariable)]=np.round(prediction)\n",
    "\n",
    "# Printing sample prediction values\n",
    "print(TestingDataResults[[TargetVariable,'Predicted'+TargetVariable]].head())\n"
   ]
  },
  {
   "cell_type": "code",
   "execution_count": 63,
   "id": "894f38ae",
   "metadata": {},
   "outputs": [
    {
     "name": "stdout",
     "output_type": "stream",
     "text": [
      "Mean Accuracy on test data: 92.58461068304369\n",
      "Median Accuracy on test data: 94.81483813273168\n"
     ]
    }
   ],
   "source": [
    "# Calculating the error for each row\n",
    "TestingDataResults['APE']=100 * ((abs(\n",
    "  TestingDataResults['price']-TestingDataResults['Predictedprice']))/TestingDataResults['price'])\n",
    "\n",
    "MAPE=np.mean(TestingDataResults['APE'])\n",
    "MedianMAPE=np.median(TestingDataResults['APE'])\n",
    "\n",
    "Accuracy =100 - MAPE\n",
    "MedianAccuracy=100- MedianMAPE\n",
    "print('Mean Accuracy on test data:', Accuracy) # Can be negative sometimes due to outlier\n",
    "print('Median Accuracy on test data:', MedianAccuracy)"
   ]
  },
  {
   "cell_type": "code",
   "execution_count": 65,
   "id": "2956e3fa",
   "metadata": {},
   "outputs": [
    {
     "name": "stdout",
     "output_type": "stream",
     "text": [
      "\n",
      "Accuracy values for 10-fold Cross Validation:\n",
      " [90.24623752 92.3312393  92.81045682 89.36621575 89.84885453 90.40523238\n",
      " 89.3045014  92.32474649 93.27603845 85.51400916]\n",
      "\n",
      "Final Average Accuracy of the model: 90.54\n"
     ]
    }
   ],
   "source": [
    "# Defining a custom function to calculate accuracy\n",
    "# Make sure there are no zeros in the Target variable if you are using MAPE\n",
    "def Accuracy_Score(orig,pred):\n",
    "    MAPE = np.mean(100 * (np.abs(orig-pred)/orig))\n",
    "    #print('#'*70,'Accuracy:', 100-MAPE)\n",
    "    return(100-MAPE)\n",
    "\n",
    "# Custom Scoring MAPE calculation\n",
    "from sklearn.metrics import make_scorer\n",
    "custom_Scoring=make_scorer(Accuracy_Score, greater_is_better=True)\n",
    "\n",
    "# Importing cross validation function from sklearn\n",
    "from sklearn.model_selection import cross_val_score\n",
    "\n",
    "# Running 10-Fold Cross validation on a given algorithm\n",
    "# Passing full data X and y because the K-fold will split the data and automatically choose train/test\n",
    "Accuracy_Values=cross_val_score(RegModel, x , y, cv=10, scoring=custom_Scoring)\n",
    "print('\\nAccuracy values for 10-fold Cross Validation:\\n',Accuracy_Values)\n",
    "print('\\nFinal Average Accuracy of the model:', round(Accuracy_Values.mean(),2))"
   ]
  },
  {
   "cell_type": "markdown",
   "id": "552a605a",
   "metadata": {},
   "source": [
    "# AdaBoost"
   ]
  },
  {
   "cell_type": "code",
   "execution_count": 67,
   "id": "2e8cc1b3",
   "metadata": {},
   "outputs": [
    {
     "name": "stdout",
     "output_type": "stream",
     "text": [
      "AdaBoostRegressor(base_estimator=DecisionTreeRegressor(max_depth=15),\n",
      "                  learning_rate=0.04, n_estimators=100)\n",
      "R2 Value: 0.9603692576447616\n"
     ]
    }
   ],
   "source": [
    "# Adaboost (Boosting of multiple Decision Trees)\n",
    "from sklearn.ensemble import AdaBoostRegressor\n",
    "from sklearn.tree import DecisionTreeRegressor\n",
    "\n",
    "# Choosing Decision Tree with 10 level as the weak learner\n",
    "DTR=DecisionTreeRegressor(max_depth=15)\n",
    "RegModel = AdaBoostRegressor(n_estimators=100, base_estimator=DTR ,learning_rate=0.04)\n",
    "\n",
    "# Printing all the parameters of Adaboost\n",
    "print(RegModel)\n",
    "\n",
    "# Creating the model on Training Data\n",
    "AB=RegModel.fit(x_train,y_train)\n",
    "prediction=AB.predict(x_test)\n",
    "\n",
    "from sklearn import metrics\n",
    "# Measuring Goodness of fit in Training data\n",
    "print('R2 Value:',metrics.r2_score(y_train, AB.predict(x_train)))"
   ]
  },
  {
   "cell_type": "code",
   "execution_count": 69,
   "id": "ad56704a",
   "metadata": {},
   "outputs": [
    {
     "name": "stdout",
     "output_type": "stream",
     "text": [
      "\n",
      "##### Model Validation and Accuracy Calculations ##########\n",
      "   price  Predictedprice\n",
      "0   1974          1475.0\n",
      "1   1819          2019.0\n",
      "2   1845          2003.0\n",
      "3   1994          1994.0\n",
      "4   2199          2533.0\n"
     ]
    },
    {
     "data": {
      "image/png": "[encoded data removed]",
      "text/plain": [
       "<Figure size 432x288 with 1 Axes>"
      ]
     },
     "metadata": {
      "needs_background": "light"
     },
     "output_type": "display_data"
    }
   ],
   "source": [
    "# Plotting the feature importance for Top 10 most important columns\n",
    "%matplotlib inline\n",
    "feature_importances = pd.Series(AB.feature_importances_, index=Predictors)\n",
    "feature_importances.nlargest(10).plot(kind='barh')\n",
    "\n",
    "###########################################################################\n",
    "print('\\n##### Model Validation and Accuracy Calculations ##########')\n",
    "\n",
    "# Printing some sample values of prediction\n",
    "TestingDataResults=pd.DataFrame(data=x_test, columns=Predictors)\n",
    "TestingDataResults[TargetVariable]=y_test\n",
    "TestingDataResults[('Predicted'+TargetVariable)]=np.round(prediction)\n",
    "\n",
    "# Printing sample prediction values\n",
    "print(TestingDataResults[[TargetVariable,'Predicted'+TargetVariable]].head())\n"
   ]
  },
  {
   "cell_type": "code",
   "execution_count": 70,
   "id": "456e1a7b",
   "metadata": {},
   "outputs": [
    {
     "name": "stdout",
     "output_type": "stream",
     "text": [
      "Mean Accuracy on test data: 93.03515305627971\n",
      "Median Accuracy on test data: 95.01454487755858\n"
     ]
    }
   ],
   "source": [
    "# Calculating the error for each row\n",
    "TestingDataResults['APE']=100 * ((abs(\n",
    "  TestingDataResults['price']-TestingDataResults['Predictedprice']))/TestingDataResults['price'])\n",
    "\n",
    "MAPE=np.mean(TestingDataResults['APE'])\n",
    "MedianMAPE=np.median(TestingDataResults['APE'])\n",
    "\n",
    "Accuracy =100 - MAPE\n",
    "MedianAccuracy=100- MedianMAPE\n",
    "print('Mean Accuracy on test data:', Accuracy) # Can be negative sometimes due to outlier\n",
    "print('Median Accuracy on test data:', MedianAccuracy)\n"
   ]
  },
  {
   "cell_type": "code",
   "execution_count": 72,
   "id": "429ef705",
   "metadata": {},
   "outputs": [
    {
     "name": "stdout",
     "output_type": "stream",
     "text": [
      "\n",
      "Accuracy values for 10-fold Cross Validation:\n",
      " [89.20818742 93.55785636 94.03763743 89.58854406 89.64568186 91.76097553\n",
      " 90.52860937 92.42897967 93.49041274 87.8787278 ]\n",
      "\n",
      "Final Average Accuracy of the model: 91.21\n"
     ]
    }
   ],
   "source": [
    "# Defining a custom function to calculate accuracy\n",
    "# Make sure there are no zeros in the Target variable if you are using MAPE\n",
    "def Accuracy_Score(orig,pred):\n",
    "    MAPE = np.mean(100 * (np.abs(orig-pred)/orig))\n",
    "    #print('#'*70,'Accuracy:', 100-MAPE)\n",
    "    return(100-MAPE)\n",
    "\n",
    "# Custom Scoring MAPE calculation\n",
    "from sklearn.metrics import make_scorer\n",
    "custom_Scoring=make_scorer(Accuracy_Score, greater_is_better=True)\n",
    "\n",
    "# Importing cross validation function from sklearn\n",
    "from sklearn.model_selection import cross_val_score\n",
    "\n",
    "# Running 10-Fold Cross validation on a given algorithm\n",
    "# Passing full data X and y because the K-fold will split the data and automatically choose train/test\n",
    "Accuracy_Values=cross_val_score(RegModel, x , y, cv=10, scoring=custom_Scoring)\n",
    "print('\\nAccuracy values for 10-fold Cross Validation:\\n',Accuracy_Values)\n",
    "print('\\nFinal Average Accuracy of the model:', round(Accuracy_Values.mean(),2))"
   ]
  },
  {
   "cell_type": "markdown",
   "id": "d89036a5",
   "metadata": {},
   "source": [
    "# KNN"
   ]
  },
  {
   "cell_type": "code",
   "execution_count": 2,
   "id": "cbdb3c5d",
   "metadata": {},
   "outputs": [
    {
     "name": "stdout",
     "output_type": "stream",
     "text": [
      "KNeighborsRegressor(n_neighbors=3)\n"
     ]
    },
    {
     "ename": "NameError",
     "evalue": "name 'x_train' is not defined",
     "output_type": "error",
     "traceback": [
      "\u001b[1;31m---------------------------------------------------------------------------\u001b[0m",
      "\u001b[1;31mNameError\u001b[0m                                 Traceback (most recent call last)",
      "\u001b[1;32m<ipython-input-2-fede203b4c50>\u001b[0m in \u001b[0;36m<module>\u001b[1;34m\u001b[0m\n\u001b[0;32m      7\u001b[0m \u001b[1;33m\u001b[0m\u001b[0m\n\u001b[0;32m      8\u001b[0m \u001b[1;31m# Creating the model on Training Data\u001b[0m\u001b[1;33m\u001b[0m\u001b[1;33m\u001b[0m\u001b[1;33m\u001b[0m\u001b[0m\n\u001b[1;32m----> 9\u001b[1;33m \u001b[0mKNN\u001b[0m\u001b[1;33m=\u001b[0m\u001b[0mRegModel\u001b[0m\u001b[1;33m.\u001b[0m\u001b[0mfit\u001b[0m\u001b[1;33m(\u001b[0m\u001b[0mx_train\u001b[0m\u001b[1;33m,\u001b[0m\u001b[0my_train\u001b[0m\u001b[1;33m)\u001b[0m\u001b[1;33m\u001b[0m\u001b[1;33m\u001b[0m\u001b[0m\n\u001b[0m\u001b[0;32m     10\u001b[0m \u001b[0mprediction\u001b[0m\u001b[1;33m=\u001b[0m\u001b[0mKNN\u001b[0m\u001b[1;33m.\u001b[0m\u001b[0mpredict\u001b[0m\u001b[1;33m(\u001b[0m\u001b[0mx_test\u001b[0m\u001b[1;33m)\u001b[0m\u001b[1;33m\u001b[0m\u001b[1;33m\u001b[0m\u001b[0m\n\u001b[0;32m     11\u001b[0m \u001b[1;33m\u001b[0m\u001b[0m\n",
      "\u001b[1;31mNameError\u001b[0m: name 'x_train' is not defined"
     ]
    }
   ],
   "source": [
    "# K-Nearest Neighbor(KNN)\n",
    "from sklearn.neighbors import KNeighborsRegressor\n",
    "RegModel = KNeighborsRegressor(n_neighbors=3)\n",
    "\n",
    "# Printing all the parameters of KNN\n",
    "print(RegModel)\n",
    "\n",
    "# Creating the model on Training Data\n",
    "KNN=RegModel.fit(x_train,y_train)\n",
    "prediction=KNN.predict(x_test)\n",
    "\n",
    "from sklearn import metrics\n",
    "# Measuring Goodness of fit in Training data\n",
    "print('R2 Value:',metrics.r2_score(y_train, KNN.predict(x_train)))"
   ]
  },
  {
   "cell_type": "code",
   "execution_count": null,
   "id": "7ee16279",
   "metadata": {},
   "outputs": [],
   "source": [
    "# Printing some sample values of prediction\n",
    "TestingDataResults=pd.DataFrame(data=X_test, columns=Predictors)\n",
    "TestingDataResults[TargetVariable]=y_test\n",
    "TestingDataResults[('Predicted'+TargetVariable)]=np.round(prediction)\n",
    "\n",
    "# Printing sample prediction values\n",
    "print(TestingDataResults[[TargetVariable,'Predicted'+TargetVariable]].head())\n"
   ]
  },
  {
   "cell_type": "code",
   "execution_count": null,
   "id": "5d45ccb1",
   "metadata": {},
   "outputs": [],
   "source": [
    "# Calculating the error for each row\n",
    "TestingDataResults['APE']=100 * ((abs(\n",
    "  TestingDataResults['price']-TestingDataResults['Predictedprice']))/TestingDataResults['price'])\n",
    "\n",
    "MAPE=np.mean(TestingDataResults['APE'])\n",
    "MedianMAPE=np.median(TestingDataResults['APE'])\n",
    "\n",
    "Accuracy =100 - MAPE\n",
    "MedianAccuracy=100- MedianMAPE\n",
    "print('Mean Accuracy on test data:', Accuracy) # Can be negative sometimes due to outlier\n",
    "print('Median Accuracy on test data:', MedianAccuracy)"
   ]
  },
  {
   "cell_type": "code",
   "execution_count": null,
   "id": "3ba5e017",
   "metadata": {},
   "outputs": [
    {
     "name": "stderr",
     "output_type": "stream",
     "text": [
      "Exception in callback BaseSelectorEventLoop._read_from_self()\n",
      "handle: <Handle BaseSelectorEventLoop._read_from_self()>\n",
      "Traceback (most recent call last):\n",
      "  File \"C:\\Users\\yogesh\\anaconda3\\lib\\asyncio\\events.py\", line 81, in _run\n",
      "    self._context.run(self._callback, *self._args)\n",
      "  File \"C:\\Users\\yogesh\\anaconda3\\lib\\asyncio\\selector_events.py\", line 120, in _read_from_self\n",
      "    data = self._ssock.recv(4096)\n",
      "ConnectionResetError: [WinError 10054] An existing connection was forcibly closed by the remote host\n",
      "Exception in callback BaseSelectorEventLoop._read_from_self()\n",
      "handle: <Handle BaseSelectorEventLoop._read_from_self()>\n",
      "Traceback (most recent call last):\n",
      "  File \"C:\\Users\\yogesh\\anaconda3\\lib\\asyncio\\events.py\", line 81, in _run\n",
      "    self._context.run(self._callback, *self._args)\n",
      "  File \"C:\\Users\\yogesh\\anaconda3\\lib\\asyncio\\selector_events.py\", line 120, in _read_from_self\n",
      "    data = self._ssock.recv(4096)\n",
      "ConnectionResetError: [WinError 10054] An existing connection was forcibly closed by the remote host\n"
     ]
    }
   ],
   "source": [
    "# Defining a custom function to calculate accuracy\n",
    "# Make sure there are no zeros in the Target variable if you are using MAPE\n",
    "def Accuracy_Score(orig,pred):\n",
    "    MAPE = np.mean(100 * (np.abs(orig-pred)/orig))\n",
    "    #print('#'*70,'Accuracy:', 100-MAPE)\n",
    "    return(100-MAPE)\n",
    "\n",
    "# Custom Scoring MAPE calculation\n",
    "from sklearn.metrics import make_scorer\n",
    "custom_Scoring=make_scorer(Accuracy_Score, greater_is_better=True)\n",
    "\n",
    "# Importing cross validation function from sklearn\n",
    "from sklearn.model_selection import cross_val_score\n",
    "\n",
    "# Running 10-Fold Cross validation on a given algorithm\n",
    "# Passing full data X and y because the K-fold will split the data and automatically choose train/test\n",
    "Accuracy_Values=cross_val_score(RegModel, X , y, cv=10, scoring=custom_Scoring)\n",
    "print('\\nAccuracy values for 10-fold Cross Validation:\\n',Accuracy_Values)\n",
    "print('\\nFinal Average Accuracy of the model:', round(Accuracy_Values.mean(),2))"
   ]
  },
  {
   "cell_type": "code",
   "execution_count": null,
   "id": "decdac46",
   "metadata": {},
   "outputs": [],
   "source": []
  }
 ],
 "metadata": {
  "kernelspec": {
   "display_name": "Python 3",
   "language": "python",
   "name": "python3"
  },
  "language_info": {
   "codemirror_mode": {
    "name": "ipython",
    "version": 3
   },
   "file_extension": ".py",
   "mimetype": "text/x-python",
   "name": "python",
   "nbconvert_exporter": "python",
   "pygments_lexer": "ipython3",
   "version": "3.8.8"
  }
 },
 "nbformat": 4,
 "nbformat_minor": 5
}
